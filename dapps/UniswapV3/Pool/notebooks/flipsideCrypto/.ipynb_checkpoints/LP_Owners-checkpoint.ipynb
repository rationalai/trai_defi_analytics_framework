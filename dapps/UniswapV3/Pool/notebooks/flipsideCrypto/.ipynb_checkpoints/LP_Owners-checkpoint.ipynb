{
 "cells": [
  {
   "cell_type": "code",
   "execution_count": 12,
   "metadata": {},
   "outputs": [
    {
     "name": "stdout",
     "output_type": "stream",
     "text": [
      "                                 POOL_ADDRESS          POOL_NAME  \\\n",
      "0  0x8ad599c3a0ff1de082011efddc58f1908eb6e6d8  USDC-WETH 3000 60   \n",
      "1  0x7858e59e0c01ea06df3af3d20ac7b0003275d4bf   USDC-USDT 500 10   \n",
      "2  0xcbcdf9626bc03e24f779434178a73a0b4bad62ed  WBTC-WETH 3000 60   \n",
      "3  0x6c6bc977e13df9b0de53b251522280bb72383700    DAI-USDC 500 10   \n",
      "4  0x4e68ccd3e89f51c3074ca5072bbac773960dfa36  WETH-USDT 3000 60   \n",
      "\n",
      "   GROSS_LIQUIDITY  \n",
      "0     3.073652e+08  \n",
      "1     2.189040e+08  \n",
      "2     2.107335e+08  \n",
      "3     1.228092e+08  \n",
      "4     9.999524e+07  \n"
     ]
    }
   ],
   "source": [
    "data_path = \"../../data/LP_Owners.csv\"\n",
    "\n",
    "import pandas as pd\n",
    "df_lpowners = pd.read_csv(data_path)\n",
    "print(df_lpowners.head())"
   ]
  },
  {
   "cell_type": "markdown",
   "metadata": {},
   "source": [
    "# Which Uniswap V3 pool participation is profitable?"
   ]
  },
  {
   "cell_type": "markdown",
   "metadata": {},
   "source": [
    "#### Issue -1: How many active unique Pool-Pair Exists in Uniswap V3?"
   ]
  },
  {
   "cell_type": "code",
   "execution_count": null,
   "metadata": {},
   "outputs": [],
   "source": []
  },
  {
   "cell_type": "markdown",
   "metadata": {},
   "source": [
    "#### Issue -2: Which in Uniswap V3 pool has maximum liquidity?"
   ]
  },
  {
   "cell_type": "code",
   "execution_count": null,
   "metadata": {},
   "outputs": [],
   "source": []
  },
  {
   "cell_type": "markdown",
   "metadata": {},
   "source": [
    "#### Issue-3:  Which Uniswap V3 has minimum liquidity?"
   ]
  },
  {
   "cell_type": "code",
   "execution_count": null,
   "metadata": {},
   "outputs": [],
   "source": []
  },
  {
   "cell_type": "markdown",
   "metadata": {},
   "source": [
    "#### Issue-4:  How many verified pools exists?"
   ]
  },
  {
   "cell_type": "code",
   "execution_count": null,
   "metadata": {},
   "outputs": [],
   "source": []
  },
  {
   "cell_type": "markdown",
   "metadata": {},
   "source": [
    "#### Issue-5: Ilustrate the pool fees earned?"
   ]
  },
  {
   "cell_type": "code",
   "execution_count": 16,
   "metadata": {},
   "outputs": [
    {
     "name": "stdout",
     "output_type": "stream",
     "text": [
      "                           LIQUIDITY_PROVIDER TOKEN            POOL_NAME  \\\n",
      "0  0x6555e1cc97d3cba6eaddebbcd7ca51d75771e0b8  WETH    WBTC-WETH 3000 60   \n",
      "1  0x6555e1cc97d3cba6eaddebbcd7ca51d75771e0b8  WBTC    WBTC-WETH 3000 60   \n",
      "2  0xd7c9f3010efdff665ee72580ffa7b4141e56b17e  SHIB  SHIB-WETH 10000 200   \n",
      "3  0xd7c9f3010efdff665ee72580ffa7b4141e56b17e  WETH  SHIB-WETH 10000 200   \n",
      "4  0x22fa8cc33a42320385cbd3690ed60a021891cb32  USDC    USDC-WETH 3000 60   \n",
      "\n",
      "   FEES_COLLECTED_USD  \n",
      "0        1.401819e+06  \n",
      "1        1.401819e+06  \n",
      "2        1.164457e+06  \n",
      "3        1.164457e+06  \n",
      "4        1.089973e+06  \n"
     ]
    }
   ],
   "source": [
    "data_path = \"../../data/flipsideCrypto/FeeEarned/total_fee_earned.csv\"\n",
    "\n",
    "import pandas as pd\n",
    "df_feeEarned = pd.read_csv(data_path)\n",
    "df_feeEarned.columns = ['LIQUIDITY_PROVIDER','TOKEN', 'POOL_NAME','FEES_COLLECTED_USD']\n",
    "print(df_feeEarned.head())"
   ]
  },
  {
   "cell_type": "code",
   "execution_count": 6,
   "metadata": {},
   "outputs": [],
   "source": [
    "## Join on the Pool Address and LP Provider token"
   ]
  },
  {
   "cell_type": "code",
   "execution_count": 17,
   "metadata": {},
   "outputs": [
    {
     "data": {
      "text/html": [
       "<div>\n",
       "<style scoped>\n",
       "    .dataframe tbody tr th:only-of-type {\n",
       "        vertical-align: middle;\n",
       "    }\n",
       "\n",
       "    .dataframe tbody tr th {\n",
       "        vertical-align: top;\n",
       "    }\n",
       "\n",
       "    .dataframe thead th {\n",
       "        text-align: right;\n",
       "    }\n",
       "</style>\n",
       "<table border=\"1\" class=\"dataframe\">\n",
       "  <thead>\n",
       "    <tr style=\"text-align: right;\">\n",
       "      <th></th>\n",
       "      <th>LIQUIDITY_PROVIDER</th>\n",
       "      <th>TOKEN</th>\n",
       "      <th>POOL_NAME</th>\n",
       "      <th>FEES_COLLECTED_USD</th>\n",
       "      <th>POOL_ADDRESS</th>\n",
       "      <th>GROSS_LIQUIDITY</th>\n",
       "    </tr>\n",
       "  </thead>\n",
       "  <tbody>\n",
       "    <tr>\n",
       "      <th>0</th>\n",
       "      <td>0x6555e1cc97d3cba6eaddebbcd7ca51d75771e0b8</td>\n",
       "      <td>WETH</td>\n",
       "      <td>WBTC-WETH 3000 60</td>\n",
       "      <td>1.401819e+06</td>\n",
       "      <td>0xcbcdf9626bc03e24f779434178a73a0b4bad62ed</td>\n",
       "      <td>2.107335e+08</td>\n",
       "    </tr>\n",
       "    <tr>\n",
       "      <th>1</th>\n",
       "      <td>0x6555e1cc97d3cba6eaddebbcd7ca51d75771e0b8</td>\n",
       "      <td>WBTC</td>\n",
       "      <td>WBTC-WETH 3000 60</td>\n",
       "      <td>1.401819e+06</td>\n",
       "      <td>0xcbcdf9626bc03e24f779434178a73a0b4bad62ed</td>\n",
       "      <td>2.107335e+08</td>\n",
       "    </tr>\n",
       "    <tr>\n",
       "      <th>2</th>\n",
       "      <td>0xe34bb624055b171d777eccbbfc3baaeeffbe432c</td>\n",
       "      <td>WETH</td>\n",
       "      <td>WBTC-WETH 3000 60</td>\n",
       "      <td>2.509865e+05</td>\n",
       "      <td>0xcbcdf9626bc03e24f779434178a73a0b4bad62ed</td>\n",
       "      <td>2.107335e+08</td>\n",
       "    </tr>\n",
       "    <tr>\n",
       "      <th>3</th>\n",
       "      <td>0xe34bb624055b171d777eccbbfc3baaeeffbe432c</td>\n",
       "      <td>WBTC</td>\n",
       "      <td>WBTC-WETH 3000 60</td>\n",
       "      <td>2.509865e+05</td>\n",
       "      <td>0xcbcdf9626bc03e24f779434178a73a0b4bad62ed</td>\n",
       "      <td>2.107335e+08</td>\n",
       "    </tr>\n",
       "    <tr>\n",
       "      <th>4</th>\n",
       "      <td>0x600b8a34ec1cfd8b8af78cfc49708419a16ea2e8</td>\n",
       "      <td>WETH</td>\n",
       "      <td>WBTC-WETH 3000 60</td>\n",
       "      <td>2.232483e+05</td>\n",
       "      <td>0xcbcdf9626bc03e24f779434178a73a0b4bad62ed</td>\n",
       "      <td>2.107335e+08</td>\n",
       "    </tr>\n",
       "  </tbody>\n",
       "</table>\n",
       "</div>"
      ],
      "text/plain": [
       "                           LIQUIDITY_PROVIDER TOKEN          POOL_NAME  \\\n",
       "0  0x6555e1cc97d3cba6eaddebbcd7ca51d75771e0b8  WETH  WBTC-WETH 3000 60   \n",
       "1  0x6555e1cc97d3cba6eaddebbcd7ca51d75771e0b8  WBTC  WBTC-WETH 3000 60   \n",
       "2  0xe34bb624055b171d777eccbbfc3baaeeffbe432c  WETH  WBTC-WETH 3000 60   \n",
       "3  0xe34bb624055b171d777eccbbfc3baaeeffbe432c  WBTC  WBTC-WETH 3000 60   \n",
       "4  0x600b8a34ec1cfd8b8af78cfc49708419a16ea2e8  WETH  WBTC-WETH 3000 60   \n",
       "\n",
       "   FEES_COLLECTED_USD                                POOL_ADDRESS  \\\n",
       "0        1.401819e+06  0xcbcdf9626bc03e24f779434178a73a0b4bad62ed   \n",
       "1        1.401819e+06  0xcbcdf9626bc03e24f779434178a73a0b4bad62ed   \n",
       "2        2.509865e+05  0xcbcdf9626bc03e24f779434178a73a0b4bad62ed   \n",
       "3        2.509865e+05  0xcbcdf9626bc03e24f779434178a73a0b4bad62ed   \n",
       "4        2.232483e+05  0xcbcdf9626bc03e24f779434178a73a0b4bad62ed   \n",
       "\n",
       "   GROSS_LIQUIDITY  \n",
       "0     2.107335e+08  \n",
       "1     2.107335e+08  \n",
       "2     2.107335e+08  \n",
       "3     2.107335e+08  \n",
       "4     2.107335e+08  "
      ]
     },
     "execution_count": 17,
     "metadata": {},
     "output_type": "execute_result"
    }
   ],
   "source": [
    "df_merge_col = pd.merge(df_feeEarned, df_lpowners, on='POOL_NAME')\n",
    "df_merge_col.head()"
   ]
  },
  {
   "cell_type": "code",
   "execution_count": null,
   "metadata": {},
   "outputs": [],
   "source": []
  }
 ],
 "metadata": {
  "kernelspec": {
   "display_name": "Python 3",
   "language": "python",
   "name": "python3"
  },
  "language_info": {
   "codemirror_mode": {
    "name": "ipython",
    "version": 3
   },
   "file_extension": ".py",
   "mimetype": "text/x-python",
   "name": "python",
   "nbconvert_exporter": "python",
   "pygments_lexer": "ipython3",
   "version": "3.8.3"
  }
 },
 "nbformat": 4,
 "nbformat_minor": 4
}
