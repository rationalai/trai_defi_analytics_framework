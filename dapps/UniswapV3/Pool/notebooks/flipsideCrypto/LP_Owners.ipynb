{
 "cells": [
  {
   "cell_type": "code",
   "execution_count": 41,
   "metadata": {},
   "outputs": [
    {
     "name": "stdout",
     "output_type": "stream",
     "text": [
      "                                 POOL_ADDRESS          POOL_NAME  \\\n",
      "0  0x8ad599c3a0ff1de082011efddc58f1908eb6e6d8  USDC-WETH 3000 60   \n",
      "1  0x7858e59e0c01ea06df3af3d20ac7b0003275d4bf   USDC-USDT 500 10   \n",
      "2  0xcbcdf9626bc03e24f779434178a73a0b4bad62ed  WBTC-WETH 3000 60   \n",
      "3  0x6c6bc977e13df9b0de53b251522280bb72383700    DAI-USDC 500 10   \n",
      "4  0x4e68ccd3e89f51c3074ca5072bbac773960dfa36  WETH-USDT 3000 60   \n",
      "\n",
      "   GROSS_LIQUIDITY  \n",
      "0     3.073652e+08  \n",
      "1     2.189040e+08  \n",
      "2     2.107335e+08  \n",
      "3     1.228092e+08  \n",
      "4     9.999524e+07  \n"
     ]
    }
   ],
   "source": [
    "data_path = \"../../data/LP_Owners.csv\"\n",
    "result_path = \"../../results/\"\n",
    "import csv\n",
    "import pandas as pd\n",
    "df_lpowners = pd.read_csv(data_path)\n",
    "print(df_lpowners.head())"
   ]
  },
  {
   "cell_type": "markdown",
   "metadata": {},
   "source": [
    "# Which Uniswap V3 pool participation is profitable?"
   ]
  },
  {
   "cell_type": "markdown",
   "metadata": {},
   "source": [
    "#### Issue -1: How many active unique Pool-Pair Exists in Uniswap V3?"
   ]
  },
  {
   "cell_type": "code",
   "execution_count": 50,
   "metadata": {},
   "outputs": [
    {
     "name": "stdout",
     "output_type": "stream",
     "text": [
      "Index(['POOL_ADDRESS', 'POOL_NAME', 'GROSS_LIQUIDITY', 'POOL_PAIR'], dtype='object')\n",
      "                                 POOL_ADDRESS          POOL_NAME  \\\n",
      "0  0x8ad599c3a0ff1de082011efddc58f1908eb6e6d8  USDC-WETH 3000 60   \n",
      "1  0x7858e59e0c01ea06df3af3d20ac7b0003275d4bf   USDC-USDT 500 10   \n",
      "2  0xcbcdf9626bc03e24f779434178a73a0b4bad62ed  WBTC-WETH 3000 60   \n",
      "3  0x6c6bc977e13df9b0de53b251522280bb72383700    DAI-USDC 500 10   \n",
      "4  0x4e68ccd3e89f51c3074ca5072bbac773960dfa36  WETH-USDT 3000 60   \n",
      "\n",
      "   GROSS_LIQUIDITY  POOL_PAIR  \n",
      "0     3.073652e+08  USDC-WETH  \n",
      "1     2.189040e+08  USDC-USDT  \n",
      "2     2.107335e+08  WBTC-WETH  \n",
      "3     1.228092e+08   DAI-USDC  \n",
      "4     9.999524e+07  WETH-USDT  \n",
      "The number of unique pool pairs are: 175\n",
      "The number of unique pool pairs saved to file @ ../../results/number_of_poolPair.csv\n"
     ]
    }
   ],
   "source": [
    "def parse_poolPair(df,columnName):\n",
    "    print(df.columns)\n",
    "    poolNameList = df[columnName].tolist()\n",
    "    poolPair = []\n",
    "    for pool in poolNameList:\n",
    "        temp = str(pool).split(\" \")\n",
    "        poolName = temp[0]\n",
    "        poolPair.append(poolName)\n",
    "\n",
    "    df['POOL_PAIR'] = poolPair\n",
    "    return df\n",
    "\n",
    "columnName = 'POOL_NAME'\n",
    "df_lpowners= parse_poolPair(df_lpowners,columnName)\n",
    "print(df_lpowners.head())\n",
    "\n",
    "\n",
    "def write_value_to_csvFile(value,fileName):\n",
    "    # open the file in the write mode\n",
    "    temp = []\n",
    "    temp.append(value)\n",
    "    with open(result_path+fileName, 'w') as f:\n",
    "        for line in temp:\n",
    "            f.write(str(line))\n",
    "    # close the file\n",
    "    f.close()\n",
    "    return\n",
    "\n",
    "number_of_uniquePoolPairs = len(df_lpowners.POOL_PAIR.unique())\n",
    "write_value_to_csvFile(number_of_uniquePoolPairs,'number_of_poolPair.csv')\n",
    "print(\"The number of unique pool pairs are:\",number_of_uniquePoolPairs)\n",
    "print(\"The number of unique pool pairs saved to file @\",result_path+'number_of_poolPair.csv')"
   ]
  },
  {
   "cell_type": "markdown",
   "metadata": {},
   "source": [
    "#### Issue -2: Which in Uniswap V3 pool has maximum liquidity?"
   ]
  },
  {
   "cell_type": "code",
   "execution_count": 55,
   "metadata": {},
   "outputs": [
    {
     "name": "stdout",
     "output_type": "stream",
     "text": [
      "POOL_PAIR            USDC-WETH\n",
      "GROSS_LIQUIDITY    3.07365e+08\n",
      "Name: 0, dtype: object\n"
     ]
    }
   ],
   "source": [
    "df_max_poolPair = df_lpowners.iloc[df_lpowners['GROSS_LIQUIDITY'].argmax()]\n",
    "df_max_poolPair = df_max_poolPair[['POOL_PAIR','GROSS_LIQUIDITY']]\n",
    "print(df_max_poolPair.head())\n",
    "\n",
    "df_max_poolPair.to_csv(result_path+'maximum_poolPair_liquidity.csv')"
   ]
  },
  {
   "cell_type": "markdown",
   "metadata": {},
   "source": [
    "#### Issue-3:  Which Uniswap V3 has minimum liquidity?"
   ]
  },
  {
   "cell_type": "code",
   "execution_count": 56,
   "metadata": {},
   "outputs": [
    {
     "name": "stdout",
     "output_type": "stream",
     "text": [
      "POOL_PAIR            SHIB-WETH\n",
      "GROSS_LIQUIDITY    1.04117e-13\n",
      "Name: 199, dtype: object\n"
     ]
    }
   ],
   "source": [
    "df_min_poolPair = df_lpowners.iloc[df_lpowners['GROSS_LIQUIDITY'].argmin()]\n",
    "df_min_poolPair = df_min_poolPair[['POOL_PAIR','GROSS_LIQUIDITY']]\n",
    "print(df_min_poolPair.head())\n",
    "\n",
    "df_min_poolPair.to_csv(result_path+'minimum_poolPair_liquidity.csv')"
   ]
  },
  {
   "cell_type": "markdown",
   "metadata": {},
   "source": [
    "#### Issue-4:  How many verified pools exists?"
   ]
  },
  {
   "cell_type": "code",
   "execution_count": null,
   "metadata": {},
   "outputs": [],
   "source": []
  },
  {
   "cell_type": "markdown",
   "metadata": {},
   "source": [
    "#### Issue-5: Ilustrate the pool fees earned?"
   ]
  },
  {
   "cell_type": "code",
   "execution_count": 64,
   "metadata": {},
   "outputs": [
    {
     "name": "stdout",
     "output_type": "stream",
     "text": [
      "Index(['LIQUIDITY_PROVIDER', 'TOKEN', 'POOL_NAME', 'FEES_COLLECTED_USD'], dtype='object')\n",
      "                           LIQUIDITY_PROVIDER TOKEN            POOL_NAME  \\\n",
      "0  0x6555e1cc97d3cba6eaddebbcd7ca51d75771e0b8  WETH    WBTC-WETH 3000 60   \n",
      "1  0x6555e1cc97d3cba6eaddebbcd7ca51d75771e0b8  WBTC    WBTC-WETH 3000 60   \n",
      "2  0xd7c9f3010efdff665ee72580ffa7b4141e56b17e  SHIB  SHIB-WETH 10000 200   \n",
      "3  0xd7c9f3010efdff665ee72580ffa7b4141e56b17e  WETH  SHIB-WETH 10000 200   \n",
      "4  0x22fa8cc33a42320385cbd3690ed60a021891cb32  USDC    USDC-WETH 3000 60   \n",
      "\n",
      "   FEES_COLLECTED_USD  POOL_PAIR  \n",
      "0        1.401819e+06  WBTC-WETH  \n",
      "1        1.401819e+06  WBTC-WETH  \n",
      "2        1.164457e+06  SHIB-WETH  \n",
      "3        1.164457e+06  SHIB-WETH  \n",
      "4        1.089973e+06  USDC-WETH  \n"
     ]
    }
   ],
   "source": [
    "data_path = \"../../data/flipsideCrypto/FeeEarned/total_fee_earned.csv\"\n",
    "\n",
    "import pandas as pd\n",
    "df_feeEarned = pd.read_csv(data_path)\n",
    "df_feeEarned.columns = ['LIQUIDITY_PROVIDER','TOKEN', 'POOL_NAME','FEES_COLLECTED_USD']\n",
    "columnName = 'POOL_NAME'\n",
    "df_feeEarned= parse_poolPair(df_feeEarned,columnName)\n",
    "print(df_feeEarned.head())"
   ]
  },
  {
   "cell_type": "code",
   "execution_count": 6,
   "metadata": {},
   "outputs": [],
   "source": [
    "## Join on the Pool Address and LP Provider token"
   ]
  },
  {
   "cell_type": "code",
   "execution_count": 65,
   "metadata": {},
   "outputs": [],
   "source": [
    "df_merge_col = pd.merge(df_feeEarned, df_lpowners, on='POOL_PAIR')\n",
    "df_merge_col.head()\n",
    "df_maxFeeEarned_PerPoolPair = df_merge_col[['POOL_PAIR','GROSS_LIQUIDITY','FEES_COLLECTED_USD']]\n",
    "\n",
    "df_feeEarned = df_maxFeeEarned_PerPoolPair.groupby('POOL_PAIR', sort=True)[\"FEES_COLLECTED_USD\"].sum().reset_index(name ='FEES_EARNED_USD')\n",
    "df_feeEarned.to_csv(result_path+'feeEarned.csv')"
   ]
  },
  {
   "cell_type": "code",
   "execution_count": null,
   "metadata": {},
   "outputs": [],
   "source": []
  }
 ],
 "metadata": {
  "kernelspec": {
   "display_name": "Python 3",
   "language": "python",
   "name": "python3"
  },
  "language_info": {
   "codemirror_mode": {
    "name": "ipython",
    "version": 3
   },
   "file_extension": ".py",
   "mimetype": "text/x-python",
   "name": "python",
   "nbconvert_exporter": "python",
   "pygments_lexer": "ipython3",
   "version": "3.8.3"
  }
 },
 "nbformat": 4,
 "nbformat_minor": 4
}
